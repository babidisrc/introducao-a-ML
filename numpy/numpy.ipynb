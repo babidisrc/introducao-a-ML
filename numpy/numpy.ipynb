{
 "cells": [
  {
   "cell_type": "code",
   "execution_count": 2,
   "id": "a3e57479-a396-4088-9a8e-5840f2d01498",
   "metadata": {},
   "outputs": [],
   "source": [
    "import numpy as np"
   ]
  },
  {
   "cell_type": "code",
   "execution_count": 3,
   "id": "f84bb443-a0ca-4314-a27a-fe5c82b57610",
   "metadata": {},
   "outputs": [
    {
     "name": "stdout",
     "output_type": "stream",
     "text": [
      "x:  6\n",
      "x ndim:  0\n",
      "x shape: ()\n",
      "x size:  1\n",
      "x dtype:  int64\n"
     ]
    }
   ],
   "source": [
    "# ESCALAR\n",
    "x = np.array(6)\n",
    "print (\"x: \", x)\n",
    "print (\"x ndim: \", x.ndim) # numero de dimensoes\n",
    "print (\"x shape:\", x.shape) # estrutura\n",
    "print (\"x size: \", x.size) # numero total de elementos\n",
    "print (\"x dtype: \", x.dtype) # tipo dos dados"
   ]
  },
  {
   "cell_type": "code",
   "execution_count": 4,
   "id": "e9d91c25-f313-422e-8465-1b47efc24947",
   "metadata": {},
   "outputs": [
    {
     "name": "stdout",
     "output_type": "stream",
     "text": [
      "x:  [1.3 2.2 1.7]\n",
      "x ndim:  1\n",
      "x shape: (3,)\n",
      "x size:  3\n",
      "x dtype:  float64\n"
     ]
    }
   ],
   "source": [
    "# VETOR\n",
    "x = np.array([1.3 , 2.2 , 1.7])\n",
    "print (\"x: \", x)\n",
    "print (\"x ndim: \", x.ndim) # numero de dimensoes\n",
    "print (\"x shape:\", x.shape) # estrutura\n",
    "print (\"x size: \", x.size) # numero total de elementos\n",
    "print (\"x dtype: \", x.dtype) # tipo dos dados, note o float"
   ]
  },
  {
   "cell_type": "code",
   "execution_count": 5,
   "id": "1374c359-9d89-40b6-bf59-346d347b9fb3",
   "metadata": {},
   "outputs": [
    {
     "name": "stdout",
     "output_type": "stream",
     "text": [
      "x:\n",
      " [[1 2]\n",
      " [3 4]]\n",
      "x ndim:  2\n",
      "x shape: (2, 2)\n",
      "x size:  4\n",
      "x dtype:  int64\n"
     ]
    }
   ],
   "source": [
    "# MATRIZ\n",
    "x = np.array([[1,2], [3,4]])\n",
    "print (\"x:\\n\", x)\n",
    "print (\"x ndim: \", x.ndim)\n",
    "print (\"x shape:\", x.shape)\n",
    "print (\"x size: \", x.size)\n",
    "print (\"x dtype: \", x.dtype)"
   ]
  },
  {
   "cell_type": "code",
   "execution_count": 6,
   "id": "6ce46569-2e6a-4f9c-acb8-eb3898c0a3b0",
   "metadata": {},
   "outputs": [
    {
     "name": "stdout",
     "output_type": "stream",
     "text": [
      "x:\n",
      " [[[1 2]\n",
      "  [3 4]]\n",
      "\n",
      " [[5 6]\n",
      "  [7 8]]]\n",
      "x ndim:  3\n",
      "x shape: (2, 2, 2)\n",
      "x size:  8\n",
      "x dtype:  int64\n"
     ]
    }
   ],
   "source": [
    "# TENSOR\n",
    "x = np.array([[[1,2],[3,4]],[[5,6],[7,8]]])\n",
    "print (\"x:\\n\", x)\n",
    "print (\"x ndim: \", x.ndim)\n",
    "print (\"x shape:\", x.shape)\n",
    "print (\"x size: \", x.size)\n",
    "print (\"x dtype: \", x.dtype)"
   ]
  },
  {
   "cell_type": "code",
   "execution_count": 8,
   "id": "4ab23253-5f35-4c60-bdeb-dd77b4f48405",
   "metadata": {},
   "outputs": [
    {
     "name": "stdout",
     "output_type": "stream",
     "text": [
      "1\n",
      "[1 2 3]\n",
      "[[2 3]\n",
      " [5 6]]\n",
      "[[False False False]\n",
      " [False False  True]\n",
      " [ True  True  True]]\n",
      "[6 7 8 9]\n"
     ]
    }
   ],
   "source": [
    "arr = np.array([[1, 2, 3],\n",
    "                [4, 5, 6],\n",
    "                [7, 8, 9]])\n",
    "\n",
    "# Elemento especifico\n",
    "print(arr[0, 0])    # 1\n",
    "\n",
    "# Linha inteira\n",
    "print(arr[0])       # [1 2 3]\n",
    "\n",
    "# Fatiamento\n",
    "print(arr[0:2, 1:]) # [[2 3]\n",
    "                    #  [5 6]]\n",
    "\n",
    "# Indexacaoo booleana\n",
    "print(arr > 5)      # [[False False False]\n",
    "                    #  [False False True]\n",
    "                    #  [True True True]]\n",
    "print(arr[arr > 5]) # [6 7 8 9]"
   ]
  },
  {
   "cell_type": "code",
   "execution_count": 9,
   "id": "a32178ea-27de-4be3-bb45-667563d8078d",
   "metadata": {},
   "outputs": [
    {
     "name": "stdout",
     "output_type": "stream",
     "text": [
      "[1.         1.41421356 1.73205081]\n",
      "[ 2.71828183  7.3890561  20.08553692]\n",
      "[0.84147098 0.90929743 0.14112001]\n",
      "[5 7 9]\n",
      "[ 4 10 18]\n",
      "[1 4 9]\n"
     ]
    },
    {
     "data": {
      "text/plain": [
       "array([1, 2, 3, 4, 5])"
      ]
     },
     "execution_count": 9,
     "metadata": {},
     "output_type": "execute_result"
    }
   ],
   "source": [
    "arr1 = np.array([1, 2, 3])\n",
    "arr2 = np.array([4, 5, 6])\n",
    "\n",
    "# Funcoes universais (ufuncs)\n",
    "print(np.sqrt(arr1))  # [1. 1.41421356 1.73205081]\n",
    "print(np.exp(arr1))   # [2.71828183 7.3890561 20.08553692]\n",
    "print(np.sin(arr1))   # [0.84147098 0.90929743 0.14112001]\n",
    "\n",
    "# Operacoes aritmeticas\n",
    "\n",
    "print(arr1 + arr2)  # ou np.add(arr1, arr2) -> [5 7 9]\n",
    "print(arr1 * arr2)  # ou np.multiply(arr1, arr2) -> [4 10 18]\n",
    "print(arr1 ** 2)    # [1 4 9]\n",
    "\n",
    "a = np.arange(5) # array([0, 1, 2, 3, 4])\n",
    "a + 1 # array([1, 2, 3, 4, 5])"
   ]
  },
  {
   "cell_type": "code",
   "execution_count": 10,
   "id": "6a8ba42d-89fc-4832-bcf1-ea09222677df",
   "metadata": {},
   "outputs": [
    {
     "name": "stdout",
     "output_type": "stream",
     "text": [
      "(2, 3) x (3, 2) = (2, 2)\n",
      "[[ 58.  64.]\n",
      " [139. 154.]]\n"
     ]
    }
   ],
   "source": [
    "a = np.array([[1,2,3], [4,5,6]], dtype=np.float64) # podemos especificar o dtype\n",
    "b = np.array([[7,8], [9,10], [11, 12]], dtype=np.float64)\n",
    "c = a.dot(b)\n",
    "print (f\"{a.shape} x {b.shape} = {c.shape}\")\n",
    "print (c)"
   ]
  },
  {
   "cell_type": "code",
   "execution_count": 11,
   "id": "acae8f81-9565-4597-96f8-134418237d82",
   "metadata": {},
   "outputs": [
    {
     "name": "stdout",
     "output_type": "stream",
     "text": [
      "[[17]\n",
      " [39]]\n",
      "[[17]\n",
      " [39]]\n"
     ]
    }
   ],
   "source": [
    "a = np.array([[1, 2], [3, 4]])  \n",
    "b = np.array([[5, 6]])          \n",
    "\n",
    "c = a.dot(b.T)\n",
    "print(c) \n",
    "\n",
    "c = a.dot(np.transpose(b)) # mesmo resultado que o valor anterior\n",
    "print(c) "
   ]
  },
  {
   "cell_type": "code",
   "execution_count": 12,
   "id": "17ae321c-d680-4486-8f0c-5f1c593dc339",
   "metadata": {},
   "outputs": [
    {
     "name": "stdout",
     "output_type": "stream",
     "text": [
      "[[ 50]\n",
      " [122]]\n"
     ]
    }
   ],
   "source": [
    "a = np.array([[1, 2, 3], [4, 5, 6]]) \n",
    "b = np.array([7, 8, 9])              \n",
    "\n",
    "c = a.dot(b.reshape(3, 1)) # b foi redimensionado para 3x1\n",
    "print(c)"
   ]
  },
  {
   "cell_type": "code",
   "execution_count": 13,
   "id": "7664e4b6-9eab-4061-bdd2-d15765295d66",
   "metadata": {},
   "outputs": [
    {
     "name": "stdout",
     "output_type": "stream",
     "text": [
      "[[1 2]\n",
      " [3 4]]\n",
      "sum all:  10\n",
      "sum axis=0:  [4 6]\n",
      "sum axis=1:  [3 7]\n",
      "\n",
      "\n",
      "min:  1\n",
      "max:  6\n",
      "argmin:  0\n",
      "argmax:  5\n",
      "mean:  3.5\n",
      "min axis=0:  [1 2 3]\n",
      "min axis=1:  [1 4]\n"
     ]
    }
   ],
   "source": [
    "x = np.array([[1,2],[3,4]])\n",
    "print (x)\n",
    "print (\"sum all: \", np.sum(x)) # soma todos os elementos\n",
    "print (\"sum axis=0: \", np.sum(x, axis=0)) # soma ao longo das colunas\n",
    "print (\"sum axis=1: \", np.sum(x, axis=1)) # soma ao longo das linhas \n",
    "\n",
    "print(\"\\n\")\n",
    "\n",
    "x = np.array([[1,2,3], [4,5,6]])\n",
    "print (\"min: \", x.min())\n",
    "print (\"max: \", x.max())\n",
    "print(\"argmin: \", np.argmin(x)) # Indice do menor valor\n",
    "print(\"argmax: \", np.argmax(x)) # Indice do maior valor\n",
    "print(\"mean: \", np.mean(x)) # media\n",
    "print (\"min axis=0: \", x.min(axis=0))\n",
    "print (\"min axis=1: \", x.min(axis=1))"
   ]
  },
  {
   "cell_type": "code",
   "execution_count": 14,
   "id": "1315b420-4507-4207-a36a-577d650c099a",
   "metadata": {},
   "outputs": [
    {
     "name": "stdout",
     "output_type": "stream",
     "text": [
      "[[11 22 33]\n",
      " [14 25 36]]\n"
     ]
    }
   ],
   "source": [
    "matriz = np.array([[1, 2, 3],\n",
    "                   [4, 5, 6]])\n",
    "vetor = np.array([10, 20, 30])\n",
    "\n",
    "# O vetor e \"transmitido\" para cada linha da matriz\n",
    "print(matriz + vetor)\n",
    "# [[11 22 33]\n",
    "#  [14 25 36]]"
   ]
  },
  {
   "cell_type": "code",
   "execution_count": 15,
   "id": "5284bbcf-2f39-4fe3-9c1e-2869185e2b4c",
   "metadata": {},
   "outputs": [
    {
     "name": "stdout",
     "output_type": "stream",
     "text": [
      "[[1 2 3]\n",
      " [4 5 6]]\n",
      "[[1 3]\n",
      " [2 4]]\n",
      "[1 2 3 4]\n"
     ]
    }
   ],
   "source": [
    "arr = np.array([1, 2, 3, 4, 5, 6])\n",
    "\n",
    "# Reshape (olha ele ai novamente)\n",
    "print(arr.reshape(2, 3))\n",
    "# [[1 2 3]\n",
    "#  [4 5 6]]\n",
    "\n",
    "# Transpose (olha ele ai novamente)\n",
    "matriz = np.array([[1, 2], [3, 4]])\n",
    "print(matriz.T) # ou np.transpose(matriz)\n",
    "# [[1 3]\n",
    "#  [2 4]]\n",
    "\n",
    "# Flatten - transforma em vetor (1D)\n",
    "print(matriz.flatten())  # [1 2 3 4]"
   ]
  },
  {
   "cell_type": "code",
   "execution_count": 16,
   "id": "148486e7-e3d9-4a8a-b54c-d7e9f0f7e73b",
   "metadata": {},
   "outputs": [
    {
     "name": "stdout",
     "output_type": "stream",
     "text": [
      "[[1 2]\n",
      " [3 4]\n",
      " [5 6]]\n",
      "[[1 2 5]\n",
      " [3 4 6]]\n",
      "[[1 2 5]\n",
      " [3 4 6]]\n",
      "[[1 2]\n",
      " [3 4]\n",
      " [5 6]]\n"
     ]
    }
   ],
   "source": [
    "a = np.array([[1, 2], [3, 4]])\n",
    "b = np.array([[5, 6]])\n",
    "\n",
    "# Concatenando ao longo do eixo 0 (linhas)\n",
    "print(np.concatenate((a, b), axis=0))  \n",
    "# [[1 2]\n",
    "#  [3 4]\n",
    "#  [5 6]]\n",
    "\n",
    "# Concatenando ao longo do eixo 1 (colunas)\n",
    "print(np.concatenate((a, b.T), axis=1))\n",
    "# [[1 2 5]\n",
    "#  [3 4 6]]\n",
    "\n",
    "# Equivalentes diretos\n",
    "print(np.hstack((a, b.T)))  # Horizontal, igual concatenate(axis=1)\n",
    "print(np.vstack((a, b)))    # Vertical, igual concatenate(axis=0)"
   ]
  },
  {
   "cell_type": "code",
   "execution_count": null,
   "id": "71db5561-fb82-4472-a441-175fc683bd15",
   "metadata": {},
   "outputs": [],
   "source": []
  }
 ],
 "metadata": {
  "kernelspec": {
   "display_name": "Python 3 (ipykernel)",
   "language": "python",
   "name": "python3"
  },
  "language_info": {
   "codemirror_mode": {
    "name": "ipython",
    "version": 3
   },
   "file_extension": ".py",
   "mimetype": "text/x-python",
   "name": "python",
   "nbconvert_exporter": "python",
   "pygments_lexer": "ipython3",
   "version": "3.12.1"
  }
 },
 "nbformat": 4,
 "nbformat_minor": 5
}
