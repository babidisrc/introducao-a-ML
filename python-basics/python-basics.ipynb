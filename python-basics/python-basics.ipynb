{
 "cells": [
  {
   "cell_type": "code",
   "execution_count": 2,
   "id": "66e79052-74cf-44a4-bc32-8f88c9b8daf4",
   "metadata": {},
   "outputs": [],
   "source": [
    "x = 10          # Inteiro\n",
    "y = 3.14        # Float\n",
    "nome = \"Alice\"  # String\n",
    "is_active = True  # Booleano"
   ]
  },
  {
   "cell_type": "code",
   "execution_count": 4,
   "id": "68ab439b-1dc1-4bb2-9294-9b15b2f9fd2f",
   "metadata": {},
   "outputs": [
    {
     "name": "stdout",
     "output_type": "stream",
     "text": [
      "[2, 3, 4, 5]\n",
      "[0, 1, 4, 9, 16, 25, 36, 49, 64, 81]\n"
     ]
    }
   ],
   "source": [
    "lista = [1, 2, 3, 4]\n",
    "lista.append(5)  # Adiciona um elemento\n",
    "lista.pop(0) # Remove um elemento (se nao especificar a posicao, remove o ultimo)\n",
    "print(lista)  # Saida: [2, 3, 4, 5]\n",
    "\n",
    "quadrados = [x**2 for x in range(10)]\n",
    "print(quadrados)  # Saida: [0, 1, 4, 9, 16, 25, 36, 49, 64, 81]"
   ]
  },
  {
   "cell_type": "code",
   "execution_count": 7,
   "id": "a4972348-f0a3-4742-858a-0353d646d49a",
   "metadata": {},
   "outputs": [
    {
     "name": "stdout",
     "output_type": "stream",
     "text": [
      "2\n"
     ]
    }
   ],
   "source": [
    "tupla = (1, 2, 3)\n",
    "print(tupla[1])  # Acessa o segundo elemento"
   ]
  },
  {
   "cell_type": "code",
   "execution_count": 8,
   "id": "3379a25f-93fc-44b9-bcad-ac841127d190",
   "metadata": {},
   "outputs": [
    {
     "name": "stdout",
     "output_type": "stream",
     "text": [
      "Alice\n"
     ]
    }
   ],
   "source": [
    "dicionario = {\"nome\": \"Alice\", \"idade\": 25}\n",
    "print(dicionario[\"nome\"])  # Acessa o valor pela chave"
   ]
  },
  {
   "cell_type": "code",
   "execution_count": 9,
   "id": "3d463a4e-1869-4c12-baba-c04ababe0008",
   "metadata": {},
   "outputs": [
    {
     "name": "stdout",
     "output_type": "stream",
     "text": [
      "Maior de idade\n"
     ]
    }
   ],
   "source": [
    "idade = 18\n",
    "if idade >= 18:\n",
    "    print(\"Maior de idade\")\n",
    "else:\n",
    "    print(\"Menor de idade\")"
   ]
  },
  {
   "cell_type": "code",
   "execution_count": 10,
   "id": "7da55df7-ee1e-4edf-9cbf-de0f5d4507d4",
   "metadata": {},
   "outputs": [
    {
     "name": "stdout",
     "output_type": "stream",
     "text": [
      "0\n",
      "1\n",
      "2\n",
      "3\n",
      "4\n",
      "0\n",
      "1\n",
      "2\n",
      "3\n",
      "4\n"
     ]
    }
   ],
   "source": [
    "# for: Itera sobre uma sequencia.\n",
    "\n",
    "for i in range(5):  # Repete 5 vezes\n",
    "    print(i)\n",
    "\n",
    "# while: Repete enquanto uma condicao for verdadeira.\n",
    "\n",
    "contador = 0\n",
    "while contador < 5:\n",
    "    print(contador)\n",
    "    contador += 1"
   ]
  },
  {
   "cell_type": "code",
   "execution_count": 11,
   "id": "41bbe4fc-e41a-4db4-bf89-a6f64911d84c",
   "metadata": {},
   "outputs": [
    {
     "name": "stdout",
     "output_type": "stream",
     "text": [
      "8\n",
      "Ola, Mundo!\n",
      "8\n"
     ]
    }
   ],
   "source": [
    "def soma(a, b):\n",
    "    return a + b\n",
    "\n",
    "resultado = soma(3, 5)\n",
    "print(resultado)  # Saida: 8\n",
    "\n",
    "# Parametros Padroes\n",
    "def saudacao(nome=\"Mundo\"):\n",
    "    return f\"Ola, {nome}!\"\n",
    "\n",
    "print(saudacao())  # Saida: Ola, Mundo!\n",
    "\n",
    "# Funcoes anonimas\n",
    "soma = lambda a, b: a + b\n",
    "print(soma(3, 5))  # Saida: 8"
   ]
  },
  {
   "cell_type": "code",
   "execution_count": 12,
   "id": "c3c71a3b-db94-487a-8b19-8f726c6e071a",
   "metadata": {},
   "outputs": [
    {
     "name": "stdout",
     "output_type": "stream",
     "text": [
      "Meu nome e Alice e tenho 25 anos.\n"
     ]
    }
   ],
   "source": [
    "class Pessoa:\n",
    "    def __init__(self, nome, idade):\n",
    "        self.nome = nome\n",
    "        self.idade = idade\n",
    "\n",
    "    def apresentar(self):\n",
    "        return f\"Meu nome e {self.nome} e tenho {self.idade} anos.\"\n",
    "\n",
    "pessoa = Pessoa(\"Alice\", 25)\n",
    "print(pessoa.apresentar())  # Saida: Meu nome e Alice e tenho 25 anos."
   ]
  },
  {
   "cell_type": "code",
   "execution_count": 13,
   "id": "d4fda0ee-7aac-41f9-9431-fbcccde8bcc8",
   "metadata": {},
   "outputs": [
    {
     "name": "stdout",
     "output_type": "stream",
     "text": [
      "Alice tem 25 anos.\n",
      "PYTHON E EU\n",
      "python e eu\n",
      "['Python', 'e', 'eu']\n"
     ]
    }
   ],
   "source": [
    "nome = \"Alice\"\n",
    "idade = 25\n",
    "mensagem = f\"{nome} tem {idade} anos.\"\n",
    "print(mensagem)  # Saida: Alice tem 25 anos.\n",
    "\n",
    "texto = \"Python e eu\"\n",
    "print(texto.upper())  # Converte para maiusculas -> PYTHON E EU\n",
    "print(texto.lower())  # Converte para minusculas -> python e eu\n",
    "print(texto.split())  # Divide a string em uma lista -> ['Python', 'e', 'eu']"
   ]
  },
  {
   "cell_type": "code",
   "execution_count": 16,
   "id": "a12c34c9-3331-4756-b41d-156583098ceb",
   "metadata": {},
   "outputs": [
    {
     "name": "stdout",
     "output_type": "stream",
     "text": [
      "Ola, mundo!\n"
     ]
    }
   ],
   "source": [
    "with open(\"arquivo.txt\", \"r\") as arquivo:\n",
    "    conteudo = arquivo.read()\n",
    "    print(conteudo)\n",
    "\n",
    "with open(\"arquivo.txt\", \"w\") as arquivo:\n",
    "    arquivo.write(\"Ola, mundo!\")"
   ]
  },
  {
   "cell_type": "code",
   "execution_count": 17,
   "id": "a1d1d04f-67da-4c04-8285-8b38056ed5e3",
   "metadata": {},
   "outputs": [
    {
     "name": "stdout",
     "output_type": "stream",
     "text": [
      "Erro: Divisao por zero!\n"
     ]
    }
   ],
   "source": [
    "try:\n",
    "    resultado = 10 / 0\n",
    "except ZeroDivisionError:\n",
    "    print(\"Erro: Divisao por zero!\")"
   ]
  },
  {
   "cell_type": "code",
   "execution_count": 18,
   "id": "7feb1c3c-cb61-44a4-9360-8707002b69bb",
   "metadata": {},
   "outputs": [
    {
     "name": "stdout",
     "output_type": "stream",
     "text": [
      "4.0\n",
      "4.0\n",
      "2025-02-08 02:30:51.107724\n"
     ]
    }
   ],
   "source": [
    "import math\n",
    "print(math.sqrt(16))  # Saida: 4.0\n",
    "\n",
    "# Importacao especifica\n",
    "from math import sqrt\n",
    "print(sqrt(16))  # Saida: 4.0\n",
    "\n",
    "from datetime import datetime\n",
    "agora = datetime.now()\n",
    "print(agora)  # Exibe a data e hora atuais"
   ]
  },
  {
   "cell_type": "code",
   "execution_count": null,
   "id": "99c5fb36-8af2-4524-ac78-d3dfdfd19064",
   "metadata": {},
   "outputs": [],
   "source": []
  }
 ],
 "metadata": {
  "kernelspec": {
   "display_name": "Python 3 (ipykernel)",
   "language": "python",
   "name": "python3"
  },
  "language_info": {
   "codemirror_mode": {
    "name": "ipython",
    "version": 3
   },
   "file_extension": ".py",
   "mimetype": "text/x-python",
   "name": "python",
   "nbconvert_exporter": "python",
   "pygments_lexer": "ipython3",
   "version": "3.12.1"
  }
 },
 "nbformat": 4,
 "nbformat_minor": 5
}
